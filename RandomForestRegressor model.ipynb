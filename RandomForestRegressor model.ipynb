{
 "cells": [
  {
   "cell_type": "code",
   "execution_count": 2,
   "id": "4ad59817-8975-4fb3-9fe5-8e0e90f6dc4f",
   "metadata": {},
   "outputs": [],
   "source": [
    "import numpy as np\n",
    "import pandas as pd\n",
    "import matplotlib.pyplot as plt\n",
    "import seaborn as sns\n",
    "import plotly.express as px"
   ]
  },
  {
   "cell_type": "code",
   "execution_count": 3,
   "id": "320daecd-0f6c-4589-b9b5-8a6a41a429a3",
   "metadata": {},
   "outputs": [],
   "source": [
    "df = pd.read_csv('crop_production.csv')    #data preprocessing extension csv file"
   ]
  },
  {
   "cell_type": "markdown",
   "id": "143cba5c-271f-4b5f-94c0-40041fabc35c",
   "metadata": {},
   "source": [
    "Train test split"
   ]
  },
  {
   "cell_type": "code",
   "execution_count": 4,
   "id": "b96e34d0-d01b-4df7-9c9e-35b089b3904a",
   "metadata": {},
   "outputs": [],
   "source": [
    "from sklearn.model_selection import train_test_split"
   ]
  },
  {
   "cell_type": "code",
   "execution_count": 5,
   "id": "f923eaa7-7af4-4ae3-b583-2e31c091b7fe",
   "metadata": {},
   "outputs": [],
   "source": [
    "a=df"
   ]
  },
  {
   "cell_type": "code",
   "execution_count": 6,
   "id": "3761eaa9-4693-4180-8d76-62d84f582d9a",
   "metadata": {},
   "outputs": [],
   "source": [
    "b = df['Production']\n"
   ]
  },
  {
   "cell_type": "code",
   "execution_count": 7,
   "id": "53b4ef5a-8916-4f6b-903b-5524e47fcccd",
   "metadata": {},
   "outputs": [
    {
     "data": {
      "text/plain": [
       "7"
      ]
     },
     "execution_count": 7,
     "metadata": {},
     "output_type": "execute_result"
    }
   ],
   "source": [
    "len(a.columns)"
   ]
  },
  {
   "cell_type": "code",
   "execution_count": 8,
   "id": "32f74085-640f-4f6e-8684-d8aa22db854e",
   "metadata": {},
   "outputs": [
    {
     "data": {
      "text/plain": [
       "Index(['State_Name', 'District_Name', 'Crop_Year', 'Season', 'Crop', 'Area',\n",
       "       'Production'],\n",
       "      dtype='object')"
      ]
     },
     "execution_count": 8,
     "metadata": {},
     "output_type": "execute_result"
    }
   ],
   "source": [
    "a.columns"
   ]
  },
  {
   "cell_type": "code",
   "execution_count": 10,
   "id": "96f85872-19e8-409b-87d9-c1917710827d",
   "metadata": {},
   "outputs": [
    {
     "name": "stdout",
     "output_type": "stream",
     "text": [
      "               State_Name District_Name  Crop_Year       Season  \\\n",
      "198537      Uttar Pradesh          AGRA       2007  Rabi          \n",
      "87970           Karnataka         GADAG       2013  Whole Year    \n",
      "71570    Himachal Pradesh      BILASPUR       2002  Rabi          \n",
      "10773   Arunachal Pradesh         LOHIT       2001  Whole Year    \n",
      "44519               Bihar         SIWAN       2005  Whole Year    \n",
      "...                   ...           ...        ...          ...   \n",
      "119879     Madhya Pradesh        SEHORE       1998  Rabi          \n",
      "103694     Madhya Pradesh       BARWANI       1999  Whole Year    \n",
      "131932        Maharashtra        NANDED       2002  Rabi          \n",
      "146867             Odisha        ANUGUL       1999  Kharif        \n",
      "121958     Madhya Pradesh       SHEOPUR       2003  Whole Year    \n",
      "\n",
      "                     Crop     Area  Production  \n",
      "198537              Onion     53.0       741.0  \n",
      "87970            Turmeric      1.0         5.0  \n",
      "71570   Rapeseed &Mustard    314.0       165.0  \n",
      "10773           Sugarcane     16.0       160.0  \n",
      "44519        Sweet potato     55.0       860.0  \n",
      "...                   ...      ...         ...  \n",
      "119879               Gram  92100.0    113100.0  \n",
      "103694              Onion    609.0      3587.0  \n",
      "131932              Maize    800.0       900.0  \n",
      "146867        Castor seed    220.0       110.0  \n",
      "121958             Tomato    258.0         0.0  \n",
      "\n",
      "[172263 rows x 7 columns]\n",
      "            State_Name District_Name  Crop_Year       Season  \\\n",
      "96862        Karnataka         UDUPI       2005  Rabi          \n",
      "109879  Madhya Pradesh       GWALIOR       2003  Whole Year    \n",
      "1543    Andhra Pradesh      CHITTOOR       2010  Rabi          \n",
      "4688    Andhra Pradesh       KRISHNA       2014  Rabi          \n",
      "230491   Uttar Pradesh     SULTANPUR       2011  Rabi          \n",
      "...                ...           ...        ...          ...   \n",
      "49601     Chhattisgarh          DURG       2014  Rabi          \n",
      "225688   Uttar Pradesh    RAE BARELI       2010  Summer        \n",
      "19980            Assam        KAMRUP       1998  Rabi          \n",
      "2876    Andhra Pradesh        GUNTUR       2005  Rabi          \n",
      "94849        Karnataka    RAMANAGARA       2012  Kharif        \n",
      "\n",
      "                     Crop      Area  Production  \n",
      "96862          Horse-gram    1122.0       836.0  \n",
      "109879            Brinjal     194.0         0.0  \n",
      "1543              Sesamum     334.0       118.0  \n",
      "4688               Tomato     538.0      7289.0  \n",
      "230491          Coriander      59.0        33.0  \n",
      "...                   ...       ...         ...  \n",
      "49601               Wheat    6364.0      7367.0  \n",
      "225688  Moong(Green Gram)     489.0       224.0  \n",
      "19980               Wheat    6431.0      6940.0  \n",
      "2876                 Urad  100125.0     78298.0  \n",
      "94849               Onion      10.0        53.0  \n",
      "\n",
      "[73828 rows x 7 columns]\n",
      "198537       741.0\n",
      "87970          5.0\n",
      "71570        165.0\n",
      "10773        160.0\n",
      "44519        860.0\n",
      "            ...   \n",
      "119879    113100.0\n",
      "103694      3587.0\n",
      "131932       900.0\n",
      "146867       110.0\n",
      "121958         0.0\n",
      "Name: Production, Length: 172263, dtype: float64\n",
      "96862       836.0\n",
      "109879        0.0\n",
      "1543        118.0\n",
      "4688       7289.0\n",
      "230491       33.0\n",
      "           ...   \n",
      "49601      7367.0\n",
      "225688      224.0\n",
      "19980      6940.0\n",
      "2876      78298.0\n",
      "94849        53.0\n",
      "Name: Production, Length: 73828, dtype: float64\n"
     ]
    }
   ],
   "source": [
    "a_train, a_test, b_train, b_test = train_test_split(a, b, test_size = 0.3, random_state = 42)\n",
    "print(a_train)\n",
    "print(a_test)\n",
    "print(b_train)\n",
    "print(b_test)"
   ]
  },
  {
   "cell_type": "code",
   "execution_count": 11,
   "id": "1affcca1-9fcc-44c1-82fb-7d78b954116f",
   "metadata": {},
   "outputs": [],
   "source": [
    "import numpy as np\n",
    "import matplotlib.pyplot as plt\n",
    "import seaborn as seabornInstance\n",
    "from sklearn.linear_model import LinearRegression\n",
    "from sklearn import metrics\n",
    "%matplotlib inline\n",
    "\n",
    "\n"
   ]
  },
  {
   "cell_type": "code",
   "execution_count": null,
   "id": "92ce466f-61f5-4352-8423-baf6d0c0f0db",
   "metadata": {},
   "outputs": [],
   "source": [
    "from sklearn.preprocessing import StandardScaler\n",
    "sc = StandardScaler()\n",
    "a_train = sc.fit_transform(a_train)\n",
    "a_test = sc.transform(a_test)"
   ]
  },
  {
   "cell_type": "markdown",
   "id": "4ba31b17-38d7-4030-9656-bf4b4d514133",
   "metadata": {},
   "source": [
    "RandomForestRegressor"
   ]
  },
  {
   "cell_type": "code",
   "execution_count": null,
   "id": "f4fa8d63-f5f3-4a46-b6e1-3ba0fccd7ec5",
   "metadata": {},
   "outputs": [],
   "source": [
    "from sklearn.ensemble import RandomForestRegressor \n",
    "regr = RandomForestRegressor(max_depth=2,random_state = 0, n_estimators=100)\n",
    "regr.fit(a_train, b_train)\n",
    "b_pred = regr.predict(a_test)\n",
    "\n",
    "from sklearn.metrics import mean_squared_error as mse\n",
    "from sklearn.metrics import mean_absolute_error as mae\n",
    "from sklearn.metrics import r2_score\n",
    "\n",
    "print(\"MSE =', mse(b_pred, b_test))\n",
    "print(\"MAE =', mae(b_pred, b_test))\n",
    "print(\"R2 Score =', r2_score|(b_pred, b_test))\n"
   ]
  }
 ],
 "metadata": {
  "kernelspec": {
   "display_name": "Python 3 (ipykernel)",
   "language": "python",
   "name": "python3"
  },
  "language_info": {
   "codemirror_mode": {
    "name": "ipython",
    "version": 3
   },
   "file_extension": ".py",
   "mimetype": "text/x-python",
   "name": "python",
   "nbconvert_exporter": "python",
   "pygments_lexer": "ipython3",
   "version": "3.10.7"
  }
 },
 "nbformat": 4,
 "nbformat_minor": 5
}
